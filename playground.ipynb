{
 "cells": [
  {
   "cell_type": "code",
   "execution_count": 1,
   "metadata": {},
   "outputs": [],
   "source": [
    "import numpy as np"
   ]
  },
  {
   "cell_type": "code",
   "execution_count": 38,
   "metadata": {},
   "outputs": [],
   "source": [
    "import gzip, cPickle\n",
    "from glob import glob\n",
    "import numpy as np\n",
    "import pandas as pd\n",
    "import random\n",
    "\n",
    "class_to_int = {\"FAP\":1,\"NP\":2,\"AP\":3,\"CDL\":4}"
   ]
  },
  {
   "cell_type": "code",
   "execution_count": 79,
   "metadata": {},
   "outputs": [],
   "source": [
    "def dir_to_dataset(glob_files):\n",
    "    print(\"Gonna process:\\n\\t %s\"%glob_files)\n",
    "    dataset = []\n",
    "    labels = []\n",
    "#    reader_data = pd.read_csv(glob_files, sep=\",\", header = None)\n",
    "    reader_data = pd.read_csv(glob_files, sep=\",\")\n",
    "    data_old = pd.DataFrame(reader_data)\n",
    "    data = np.array(data_old)\n",
    "    np.random.shuffle(data)\n",
    "    #data = np.array(data)\n",
    "    for row in data:\n",
    "    \tdataset.append(row[10:27262]) # all the data (both microbiome and expression)\n",
    "    \tlabels.append(row[4])#this is the sub disease class\n",
    "   \n",
    "    return np.array(dataset), np.array(labels)\n",
    "\n",
    "def dir_to_dataset_with_param(glob_files,view):\n",
    "    print(\"Gonna process:\\n\\t %s\"%glob_files)\n",
    "    dataset = []\n",
    "    labels = []\n",
    "#    reader_data = pd.read_csv(glob_files, sep=\",\", header = None)\n",
    "    reader_data = pd.read_csv(glob_files, sep=\",\")\n",
    "    data_old = pd.DataFrame(reader_data)\n",
    "    data = np.array(data_old)\n",
    "    np.random.shuffle(data)\n",
    "    #data = np.array(data)\n",
    "    for row in data:\n",
    "    \tif(view==1):\n",
    "            dataset.append(row[8:5451]) #  microbiome data 5444\n",
    "#             dataset.append(row[9:400]) #  microbiome data 5444\n",
    "            labels.append(class_to_int[row[4]])#this is the sub disease class\n",
    "        elif(view==2):\n",
    "            dataset.append(row[5452:25703]) #  expression data 20252\n",
    "#             dataset.append(row[5453:5853]) #  expression data 20253\n",
    "            labels.append(class_to_int[row[4]])#this is the sub disease class\n",
    "   \n",
    "    return np.array(dataset), np.array(labels)\n",
    "\n",
    "def create_pkl_file():\n",
    "\tData, y = dir_to_dataset(\"total_data.csv\")\n",
    "\t# Data and labels are read \n",
    "\n",
    " \ttrain_set_x = Data[:75]\n",
    " \tval_set_x = Data[76:150]\n",
    " \ttest_set_x = Data[151:184]\n",
    " \ttrain_set_y = y[:75]\n",
    "\tval_set_y = y[76:150]\n",
    "\ttest_set_y = y[151:184]\n",
    "# \t# Divided dataset into 3 parts. I had 6281 images.\n",
    "\n",
    "\ttrain_set = train_set_x, train_set_y\n",
    "\tval_set = val_set_x, val_set_y\n",
    "\ttest_set = test_set_x, val_set_y\n",
    "\n",
    "\tdataset = [train_set, val_set, test_set]\n",
    "\n",
    "\tf = gzip.open('file.pkl.gz','wb')\n",
    "\tcPickle.dump(dataset, f, protocol=2)\n",
    "\tf.close()\n",
    "\n",
    "def create_pkl_file_with_param(file_name,view):\n",
    "\tData, y = dir_to_dataset_with_param(\"cleaned_data.csv\",view)\n",
    "\t# Data and labels are read \n",
    "\n",
    " \ttrain_set_x = Data[:75]\n",
    " \tval_set_x = Data[76:150]\n",
    " \ttest_set_x = Data[151:184]\n",
    " \ttrain_set_y = y[:75]\n",
    "\tval_set_y = y[76:150]\n",
    "\ttest_set_y = y[151:184]\n",
    "# \t# Divided dataset into 3 parts. I had 6281 images.\n",
    "\n",
    "\ttrain_set = train_set_x, train_set_y\n",
    "\tval_set = val_set_x, val_set_y\n",
    "\ttest_set = test_set_x, val_set_y\n",
    "\n",
    "\tdataset = [train_set, val_set, test_set]\n",
    "\n",
    "\tf = gzip.open(file_name,'wb')\n",
    "\tcPickle.dump(dataset, f, protocol=2)\n",
    "\tf.close()"
   ]
  },
  {
   "cell_type": "code",
   "execution_count": 80,
   "metadata": {},
   "outputs": [
    {
     "name": "stdout",
     "output_type": "stream",
     "text": [
      "Gonna process:\n",
      "\t cleaned_data.csv\n",
      "Gonna process:\n",
      "\t cleaned_data.csv\n"
     ]
    }
   ],
   "source": [
    "#create_pkl_file()\n",
    "create_pkl_file_with_param(\"microbe_data.pkl.gz\",1)\n",
    "create_pkl_file_with_param(\"expression_data.pkl.gz\",2)"
   ]
  },
  {
   "cell_type": "code",
   "execution_count": 58,
   "metadata": {},
   "outputs": [
    {
     "data": {
      "text/plain": [
       "(0, 0)"
      ]
     },
     "execution_count": 58,
     "metadata": {},
     "output_type": "execute_result"
    }
   ],
   "source": [
    "without_nas.shape"
   ]
  },
  {
   "cell_type": "code",
   "execution_count": 71,
   "metadata": {},
   "outputs": [],
   "source": [
    "dataset = './expression_data.pkl.gz'\n",
    "import gzip\n",
    "import cPickle\n",
    "fid = gzip.open(dataset, 'rb')\n",
    "train_set, valid_set, test_set = cPickle.load(fid)\n",
    "# datasets = load_data(dataset, shared=True)"
   ]
  },
  {
   "cell_type": "code",
   "execution_count": 72,
   "metadata": {},
   "outputs": [
    {
     "data": {
      "text/plain": [
       "array([[0, 0, 0, ..., 9.306610000000001, 6.648474, 7.462737],\n",
       "       [0, 0, 0, ..., 8.69908, 6.882074, 7.699936],\n",
       "       [0, 0, 2, ..., 8.967866, 6.616673, 7.481475],\n",
       "       ..., \n",
       "       [0, 0, 0, ..., 9.206328, 6.760317999999999, 7.724550999999999],\n",
       "       [0, 0, 0, ..., 9.099128, 6.796834, 7.6634910000000005],\n",
       "       [0, 0, 0, ..., 8.777583, 6.6992259999999995, 7.3107690000000005]], dtype=object)"
      ]
     },
     "execution_count": 72,
     "metadata": {},
     "output_type": "execute_result"
    }
   ],
   "source": [
    "train_set[0]"
   ]
  },
  {
   "cell_type": "code",
   "execution_count": 75,
   "metadata": {},
   "outputs": [],
   "source": [
    "reader_data = pd.read_csv(\"total_data.csv\", sep=\",\")\n",
    "data_old = pd.DataFrame(reader_data)\n",
    "data = np.array(data_old)\n",
    "np.random.shuffle(data)"
   ]
  },
  {
   "cell_type": "code",
   "execution_count": null,
   "metadata": {},
   "outputs": [],
   "source": []
  },
  {
   "cell_type": "code",
   "execution_count": 76,
   "metadata": {},
   "outputs": [
    {
     "data": {
      "text/html": [
       "<div>\n",
       "<style>\n",
       "    .dataframe thead tr:only-child th {\n",
       "        text-align: right;\n",
       "    }\n",
       "\n",
       "    .dataframe thead th {\n",
       "        text-align: left;\n",
       "    }\n",
       "\n",
       "    .dataframe tbody tr th {\n",
       "        vertical-align: top;\n",
       "    }\n",
       "</style>\n",
       "<table border=\"1\" class=\"dataframe\">\n",
       "  <thead>\n",
       "    <tr style=\"text-align: right;\">\n",
       "      <th></th>\n",
       "      <th>Unnamed: 0</th>\n",
       "      <th>Transcriptome</th>\n",
       "      <th>X16S_ID</th>\n",
       "      <th>Patient_ID</th>\n",
       "      <th>Classification</th>\n",
       "      <th>Antibiotics</th>\n",
       "      <th>ISCORE</th>\n",
       "      <th>Pouch_PPI</th>\n",
       "      <th>Subject</th>\n",
       "      <th>OTU0</th>\n",
       "      <th>...</th>\n",
       "      <th>ZWILCH</th>\n",
       "      <th>ZWINT</th>\n",
       "      <th>ZXDA</th>\n",
       "      <th>ZXDB</th>\n",
       "      <th>ZXDC</th>\n",
       "      <th>ZYG11A</th>\n",
       "      <th>ZYG11B</th>\n",
       "      <th>ZYX</th>\n",
       "      <th>ZZEF1</th>\n",
       "      <th>ZZZ3</th>\n",
       "    </tr>\n",
       "  </thead>\n",
       "  <tbody>\n",
       "    <tr>\n",
       "      <th>0</th>\n",
       "      <td>1</td>\n",
       "      <td>GSM1591236</td>\n",
       "      <td>N00474</td>\n",
       "      <td>pouchitis2015.203</td>\n",
       "      <td>NP</td>\n",
       "      <td>no</td>\n",
       "      <td>0</td>\n",
       "      <td>Pouch</td>\n",
       "      <td>pouchitis2015.203</td>\n",
       "      <td>188</td>\n",
       "      <td>...</td>\n",
       "      <td>7.425943</td>\n",
       "      <td>8.050122</td>\n",
       "      <td>8.901439</td>\n",
       "      <td>8.153149</td>\n",
       "      <td>7.167783</td>\n",
       "      <td>5.121408</td>\n",
       "      <td>8.513430</td>\n",
       "      <td>9.506019</td>\n",
       "      <td>10.30450</td>\n",
       "      <td>8.754926</td>\n",
       "    </tr>\n",
       "    <tr>\n",
       "      <th>1</th>\n",
       "      <td>2</td>\n",
       "      <td>GSM1591237</td>\n",
       "      <td>N00415</td>\n",
       "      <td>pouchitis2015.204</td>\n",
       "      <td>CDL</td>\n",
       "      <td>no</td>\n",
       "      <td>5</td>\n",
       "      <td>Pouch</td>\n",
       "      <td>pouchitis2015.204</td>\n",
       "      <td>1</td>\n",
       "      <td>...</td>\n",
       "      <td>7.587704</td>\n",
       "      <td>8.430776</td>\n",
       "      <td>9.134160</td>\n",
       "      <td>8.319775</td>\n",
       "      <td>7.261207</td>\n",
       "      <td>5.171984</td>\n",
       "      <td>8.327061</td>\n",
       "      <td>9.316339</td>\n",
       "      <td>10.21266</td>\n",
       "      <td>8.607831</td>\n",
       "    </tr>\n",
       "    <tr>\n",
       "      <th>2</th>\n",
       "      <td>3</td>\n",
       "      <td>GSM1591238</td>\n",
       "      <td>N00108</td>\n",
       "      <td>pouchitis2015.1</td>\n",
       "      <td>AP</td>\n",
       "      <td>no</td>\n",
       "      <td>3</td>\n",
       "      <td>PPI</td>\n",
       "      <td>pouchitis2015.1</td>\n",
       "      <td>138</td>\n",
       "      <td>...</td>\n",
       "      <td>7.754372</td>\n",
       "      <td>8.574277</td>\n",
       "      <td>8.624271</td>\n",
       "      <td>8.076755</td>\n",
       "      <td>7.158592</td>\n",
       "      <td>4.799784</td>\n",
       "      <td>8.430059</td>\n",
       "      <td>9.429245</td>\n",
       "      <td>10.24968</td>\n",
       "      <td>8.749359</td>\n",
       "    </tr>\n",
       "  </tbody>\n",
       "</table>\n",
       "<p>3 rows × 27262 columns</p>\n",
       "</div>"
      ],
      "text/plain": [
       "   Unnamed: 0 Transcriptome X16S_ID         Patient_ID Classification  \\\n",
       "0           1    GSM1591236  N00474  pouchitis2015.203             NP   \n",
       "1           2    GSM1591237  N00415  pouchitis2015.204            CDL   \n",
       "2           3    GSM1591238  N00108    pouchitis2015.1             AP   \n",
       "\n",
       "  Antibiotics  ISCORE Pouch_PPI            Subject  OTU0    ...      ZWILCH   \\\n",
       "0          no       0     Pouch  pouchitis2015.203   188    ...     7.425943   \n",
       "1          no       5     Pouch  pouchitis2015.204     1    ...     7.587704   \n",
       "2          no       3       PPI    pouchitis2015.1   138    ...     7.754372   \n",
       "\n",
       "     ZWINT      ZXDA      ZXDB      ZXDC    ZYG11A    ZYG11B       ZYX   \\\n",
       "0  8.050122  8.901439  8.153149  7.167783  5.121408  8.513430  9.506019   \n",
       "1  8.430776  9.134160  8.319775  7.261207  5.171984  8.327061  9.316339   \n",
       "2  8.574277  8.624271  8.076755  7.158592  4.799784  8.430059  9.429245   \n",
       "\n",
       "     ZZEF1      ZZZ3   \n",
       "0  10.30450  8.754926  \n",
       "1  10.21266  8.607831  \n",
       "2  10.24968  8.749359  \n",
       "\n",
       "[3 rows x 27262 columns]"
      ]
     },
     "execution_count": 76,
     "metadata": {},
     "output_type": "execute_result"
    }
   ],
   "source": [
    "data_old.head(3)"
   ]
  },
  {
   "cell_type": "code",
   "execution_count": 8,
   "metadata": {},
   "outputs": [
    {
     "data": {
      "text/plain": [
       "(184, 27262)"
      ]
     },
     "execution_count": 8,
     "metadata": {},
     "output_type": "execute_result"
    }
   ],
   "source": [
    "data_old.shape"
   ]
  },
  {
   "cell_type": "code",
   "execution_count": 25,
   "metadata": {},
   "outputs": [
    {
     "data": {
      "text/html": [
       "<div>\n",
       "<style>\n",
       "    .dataframe thead tr:only-child th {\n",
       "        text-align: right;\n",
       "    }\n",
       "\n",
       "    .dataframe thead th {\n",
       "        text-align: left;\n",
       "    }\n",
       "\n",
       "    .dataframe tbody tr th {\n",
       "        vertical-align: top;\n",
       "    }\n",
       "</style>\n",
       "<table border=\"1\" class=\"dataframe\">\n",
       "  <thead>\n",
       "    <tr style=\"text-align: right;\">\n",
       "      <th></th>\n",
       "      <th>OTU7005</th>\n",
       "      <th>A1BG</th>\n",
       "      <th>A1CF</th>\n",
       "      <th>A2LD1</th>\n",
       "      <th>A2M</th>\n",
       "      <th>A2ML1</th>\n",
       "      <th>A4GALT</th>\n",
       "    </tr>\n",
       "  </thead>\n",
       "  <tbody>\n",
       "    <tr>\n",
       "      <th>1</th>\n",
       "      <td>0</td>\n",
       "      <td>7.418533</td>\n",
       "      <td>10.82718</td>\n",
       "      <td>7.587727</td>\n",
       "      <td>11.16592</td>\n",
       "      <td>5.51985</td>\n",
       "      <td>7.26689</td>\n",
       "    </tr>\n",
       "  </tbody>\n",
       "</table>\n",
       "</div>"
      ],
      "text/plain": [
       "   OTU7005     A1BG      A1CF     A2LD1       A2M    A2ML1    A4GALT \n",
       "1        0  7.418533  10.82718  7.587727  11.16592  5.51985   7.26689"
      ]
     },
     "execution_count": 25,
     "metadata": {},
     "output_type": "execute_result"
    }
   ],
   "source": [
    "data_old.iloc[1:2,7009:7015]"
   ]
  },
  {
   "cell_type": "code",
   "execution_count": null,
   "metadata": {},
   "outputs": [],
   "source": []
  }
 ],
 "metadata": {
  "kernelspec": {
   "display_name": "Python 2",
   "language": "python",
   "name": "python2"
  },
  "language_info": {
   "codemirror_mode": {
    "name": "ipython",
    "version": 2
   },
   "file_extension": ".py",
   "mimetype": "text/x-python",
   "name": "python",
   "nbconvert_exporter": "python",
   "pygments_lexer": "ipython2",
   "version": "2.7.13"
  }
 },
 "nbformat": 4,
 "nbformat_minor": 2
}
